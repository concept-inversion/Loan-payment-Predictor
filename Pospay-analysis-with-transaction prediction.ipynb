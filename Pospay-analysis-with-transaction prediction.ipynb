{
 "cells": [
  {
   "cell_type": "code",
   "execution_count": 1,
   "metadata": {},
   "outputs": [],
   "source": [
    "import pandas as pd\n",
    "import sys\n",
    "import numpy as np\n",
    "import matplotlib.pyplot as plt\n",
    "from sklearn.model_selection import train_test_split\n",
    "from sklearn.ensemble import RandomForestClassifier\n",
    "%matplotlib inline"
   ]
  },
  {
   "cell_type": "code",
   "execution_count": 2,
   "metadata": {},
   "outputs": [
    {
     "data": {
      "text/html": [
       "<div>\n",
       "<style scoped>\n",
       "    .dataframe tbody tr th:only-of-type {\n",
       "        vertical-align: middle;\n",
       "    }\n",
       "\n",
       "    .dataframe tbody tr th {\n",
       "        vertical-align: top;\n",
       "    }\n",
       "\n",
       "    .dataframe thead th {\n",
       "        text-align: right;\n",
       "    }\n",
       "</style>\n",
       "<table border=\"1\" class=\"dataframe\">\n",
       "  <thead>\n",
       "    <tr style=\"text-align: right;\">\n",
       "      <th></th>\n",
       "      <th>type_of_transaction</th>\n",
       "      <th>counter_id</th>\n",
       "      <th>branch_id</th>\n",
       "      <th>date_of_transaction</th>\n",
       "      <th>hour</th>\n",
       "      <th>high_level_territory</th>\n",
       "      <th>staff_id</th>\n",
       "      <th>product_id</th>\n",
       "      <th>payment_amount</th>\n",
       "      <th>PTPOS_fee</th>\n",
       "      <th>PLN_eletricity_group</th>\n",
       "      <th>customer_ID</th>\n",
       "    </tr>\n",
       "  </thead>\n",
       "  <tbody>\n",
       "    <tr>\n",
       "      <th>0</th>\n",
       "      <td>5</td>\n",
       "      <td>1</td>\n",
       "      <td>9812788</td>\n",
       "      <td>20170101</td>\n",
       "      <td>192544</td>\n",
       "      <td>5</td>\n",
       "      <td>681278801</td>\n",
       "      <td>1</td>\n",
       "      <td>102500</td>\n",
       "      <td>250</td>\n",
       "      <td>R1</td>\n",
       "      <td>534442716458</td>\n",
       "    </tr>\n",
       "    <tr>\n",
       "      <th>1</th>\n",
       "      <td>6</td>\n",
       "      <td>1</td>\n",
       "      <td>9812788</td>\n",
       "      <td>20170101</td>\n",
       "      <td>192737</td>\n",
       "      <td>5</td>\n",
       "      <td>681278801</td>\n",
       "      <td>1</td>\n",
       "      <td>22500</td>\n",
       "      <td>250</td>\n",
       "      <td>R1</td>\n",
       "      <td>534440552307</td>\n",
       "    </tr>\n",
       "    <tr>\n",
       "      <th>2</th>\n",
       "      <td>1</td>\n",
       "      <td>1</td>\n",
       "      <td>9812899</td>\n",
       "      <td>20170101</td>\n",
       "      <td>62205</td>\n",
       "      <td>5</td>\n",
       "      <td>681289901</td>\n",
       "      <td>1</td>\n",
       "      <td>52500</td>\n",
       "      <td>250</td>\n",
       "      <td>R1</td>\n",
       "      <td>535851560733</td>\n",
       "    </tr>\n",
       "    <tr>\n",
       "      <th>3</th>\n",
       "      <td>2</td>\n",
       "      <td>1</td>\n",
       "      <td>9812899</td>\n",
       "      <td>20170101</td>\n",
       "      <td>62328</td>\n",
       "      <td>5</td>\n",
       "      <td>681289901</td>\n",
       "      <td>1</td>\n",
       "      <td>52500</td>\n",
       "      <td>250</td>\n",
       "      <td>R1M</td>\n",
       "      <td>535850486687</td>\n",
       "    </tr>\n",
       "    <tr>\n",
       "      <th>4</th>\n",
       "      <td>3</td>\n",
       "      <td>1</td>\n",
       "      <td>9812899</td>\n",
       "      <td>20170101</td>\n",
       "      <td>103923</td>\n",
       "      <td>5</td>\n",
       "      <td>681289901</td>\n",
       "      <td>1</td>\n",
       "      <td>52500</td>\n",
       "      <td>250</td>\n",
       "      <td>R1M</td>\n",
       "      <td>535851495394</td>\n",
       "    </tr>\n",
       "  </tbody>\n",
       "</table>\n",
       "</div>"
      ],
      "text/plain": [
       "   type_of_transaction  counter_id  branch_id  date_of_transaction    hour  \\\n",
       "0                    5           1    9812788             20170101  192544   \n",
       "1                    6           1    9812788             20170101  192737   \n",
       "2                    1           1    9812899             20170101   62205   \n",
       "3                    2           1    9812899             20170101   62328   \n",
       "4                    3           1    9812899             20170101  103923   \n",
       "\n",
       "   high_level_territory   staff_id  product_id  payment_amount  PTPOS_fee  \\\n",
       "0                     5  681278801           1          102500        250   \n",
       "1                     5  681278801           1           22500        250   \n",
       "2                     5  681289901           1           52500        250   \n",
       "3                     5  681289901           1           52500        250   \n",
       "4                     5  681289901           1           52500        250   \n",
       "\n",
       "  PLN_eletricity_group   customer_ID  \n",
       "0                   R1  534442716458  \n",
       "1                   R1  534440552307  \n",
       "2                   R1  535851560733  \n",
       "3                  R1M  535850486687  \n",
       "4                  R1M  535851495394  "
      ]
     },
     "execution_count": 2,
     "metadata": {},
     "output_type": "execute_result"
    }
   ],
   "source": [
    "df = pd.read_csv(\"processed_final_pospay.csv\", index_col=0)\n",
    "df.head()"
   ]
  },
  {
   "cell_type": "code",
   "execution_count": 3,
   "metadata": {},
   "outputs": [],
   "source": [
    "average_per_branch = df.filter([\"branch_id\",\"payment_amount\"],axis=1)\n",
    "average_per_branch= average_per_branch.groupby('branch_id')[['payment_amount']].sum()\n",
    "avg_top_twenty=average_per_branch.sort_values(['payment_amount'],ascending=False).head(20)\n",
    "avg_top_twenty.to_csv(\"avg_per_branch.csv\")"
   ]
  },
  {
   "cell_type": "code",
   "execution_count": 4,
   "metadata": {},
   "outputs": [],
   "source": [
    "average_per_customer = df.filter(['customer_ID','payment_amount'],axis=1)\n",
    "average_per_customer=average_per_customer.groupby('customer_ID')[['payment_amount']].mean()\n",
    "\n",
    "avg_per_cust=average_per_customer.sort_values(['payment_amount'],ascending=False).head(20)\n",
    "avg_per_cust.to_csv(\"avg_per_customer.csv\")"
   ]
  },
  {
   "cell_type": "code",
   "execution_count": 5,
   "metadata": {},
   "outputs": [
    {
     "data": {
      "text/plain": [
       "7898"
      ]
     },
     "execution_count": 5,
     "metadata": {},
     "output_type": "execute_result"
    }
   ],
   "source": [
    "df['type_of_transaction'].nunique()\n"
   ]
  },
  {
   "cell_type": "code",
   "execution_count": 6,
   "metadata": {},
   "outputs": [
    {
     "data": {
      "text/html": [
       "<div>\n",
       "<style scoped>\n",
       "    .dataframe tbody tr th:only-of-type {\n",
       "        vertical-align: middle;\n",
       "    }\n",
       "\n",
       "    .dataframe tbody tr th {\n",
       "        vertical-align: top;\n",
       "    }\n",
       "\n",
       "    .dataframe thead th {\n",
       "        text-align: right;\n",
       "    }\n",
       "</style>\n",
       "<table border=\"1\" class=\"dataframe\">\n",
       "  <thead>\n",
       "    <tr style=\"text-align: right;\">\n",
       "      <th></th>\n",
       "      <th>payment_amount</th>\n",
       "    </tr>\n",
       "    <tr>\n",
       "      <th>type_of_transaction</th>\n",
       "      <th></th>\n",
       "    </tr>\n",
       "  </thead>\n",
       "  <tbody>\n",
       "    <tr>\n",
       "      <th>10289</th>\n",
       "      <td>5.002500e+06</td>\n",
       "    </tr>\n",
       "    <tr>\n",
       "      <th>2760</th>\n",
       "      <td>3.710340e+06</td>\n",
       "    </tr>\n",
       "    <tr>\n",
       "      <th>4943</th>\n",
       "      <td>1.520000e+06</td>\n",
       "    </tr>\n",
       "    <tr>\n",
       "      <th>4535</th>\n",
       "      <td>1.040500e+06</td>\n",
       "    </tr>\n",
       "    <tr>\n",
       "      <th>11829</th>\n",
       "      <td>1.002500e+06</td>\n",
       "    </tr>\n",
       "  </tbody>\n",
       "</table>\n",
       "</div>"
      ],
      "text/plain": [
       "                     payment_amount\n",
       "type_of_transaction                \n",
       "10289                  5.002500e+06\n",
       "2760                   3.710340e+06\n",
       "4943                   1.520000e+06\n",
       "4535                   1.040500e+06\n",
       "11829                  1.002500e+06"
      ]
     },
     "execution_count": 6,
     "metadata": {},
     "output_type": "execute_result"
    }
   ],
   "source": [
    "average_per_type_of_transaction = df.filter(['type_of_transaction','payment_amount'],axis=1)\n",
    "average_per_type_of_transaction=average_per_type_of_transaction.groupby('type_of_transaction')[['payment_amount']].mean()\n",
    "average_per_type_of_transaction.sort_values(['payment_amount'],ascending=False).head(5)"
   ]
  },
  {
   "cell_type": "code",
   "execution_count": 7,
   "metadata": {},
   "outputs": [
    {
     "data": {
      "text/html": [
       "<div>\n",
       "<style scoped>\n",
       "    .dataframe tbody tr th:only-of-type {\n",
       "        vertical-align: middle;\n",
       "    }\n",
       "\n",
       "    .dataframe tbody tr th {\n",
       "        vertical-align: top;\n",
       "    }\n",
       "\n",
       "    .dataframe thead th {\n",
       "        text-align: right;\n",
       "    }\n",
       "</style>\n",
       "<table border=\"1\" class=\"dataframe\">\n",
       "  <thead>\n",
       "    <tr style=\"text-align: right;\">\n",
       "      <th></th>\n",
       "      <th>type_of_transaction</th>\n",
       "      <th>payment_amount</th>\n",
       "    </tr>\n",
       "    <tr>\n",
       "      <th>customer_ID</th>\n",
       "      <th></th>\n",
       "      <th></th>\n",
       "    </tr>\n",
       "  </thead>\n",
       "  <tbody>\n",
       "    <tr>\n",
       "      <th>111550079934</th>\n",
       "      <td>11.00</td>\n",
       "      <td>973441.0</td>\n",
       "    </tr>\n",
       "    <tr>\n",
       "      <th>111550002284</th>\n",
       "      <td>34.00</td>\n",
       "      <td>502500.0</td>\n",
       "    </tr>\n",
       "    <tr>\n",
       "      <th>111550055573</th>\n",
       "      <td>8.00</td>\n",
       "      <td>458473.0</td>\n",
       "    </tr>\n",
       "    <tr>\n",
       "      <th>111550234695</th>\n",
       "      <td>7.00</td>\n",
       "      <td>202500.0</td>\n",
       "    </tr>\n",
       "    <tr>\n",
       "      <th>111550273418</th>\n",
       "      <td>14.00</td>\n",
       "      <td>202500.0</td>\n",
       "    </tr>\n",
       "    <tr>\n",
       "      <th>111550207206</th>\n",
       "      <td>33.00</td>\n",
       "      <td>202500.0</td>\n",
       "    </tr>\n",
       "    <tr>\n",
       "      <th>111550150781</th>\n",
       "      <td>10.00</td>\n",
       "      <td>171207.0</td>\n",
       "    </tr>\n",
       "    <tr>\n",
       "      <th>111550271633</th>\n",
       "      <td>30.50</td>\n",
       "      <td>109432.5</td>\n",
       "    </tr>\n",
       "    <tr>\n",
       "      <th>111550011523</th>\n",
       "      <td>18.00</td>\n",
       "      <td>102500.0</td>\n",
       "    </tr>\n",
       "    <tr>\n",
       "      <th>111550273432</th>\n",
       "      <td>3.00</td>\n",
       "      <td>102500.0</td>\n",
       "    </tr>\n",
       "    <tr>\n",
       "      <th>111550055936</th>\n",
       "      <td>16.00</td>\n",
       "      <td>102500.0</td>\n",
       "    </tr>\n",
       "    <tr>\n",
       "      <th>111550192446</th>\n",
       "      <td>36.00</td>\n",
       "      <td>102500.0</td>\n",
       "    </tr>\n",
       "    <tr>\n",
       "      <th>111550270687</th>\n",
       "      <td>20.00</td>\n",
       "      <td>102500.0</td>\n",
       "    </tr>\n",
       "    <tr>\n",
       "      <th>111000351841</th>\n",
       "      <td>774.00</td>\n",
       "      <td>52500.0</td>\n",
       "    </tr>\n",
       "    <tr>\n",
       "      <th>111550276723</th>\n",
       "      <td>25.00</td>\n",
       "      <td>52500.0</td>\n",
       "    </tr>\n",
       "    <tr>\n",
       "      <th>111550154791</th>\n",
       "      <td>5.00</td>\n",
       "      <td>52500.0</td>\n",
       "    </tr>\n",
       "    <tr>\n",
       "      <th>111550055948</th>\n",
       "      <td>30.50</td>\n",
       "      <td>51448.5</td>\n",
       "    </tr>\n",
       "    <tr>\n",
       "      <th>111550216186</th>\n",
       "      <td>13.50</td>\n",
       "      <td>22500.0</td>\n",
       "    </tr>\n",
       "    <tr>\n",
       "      <th>111550023619</th>\n",
       "      <td>24.25</td>\n",
       "      <td>22500.0</td>\n",
       "    </tr>\n",
       "    <tr>\n",
       "      <th>111550183278</th>\n",
       "      <td>15.00</td>\n",
       "      <td>22500.0</td>\n",
       "    </tr>\n",
       "  </tbody>\n",
       "</table>\n",
       "</div>"
      ],
      "text/plain": [
       "              type_of_transaction  payment_amount\n",
       "customer_ID                                      \n",
       "111550079934                11.00        973441.0\n",
       "111550002284                34.00        502500.0\n",
       "111550055573                 8.00        458473.0\n",
       "111550234695                 7.00        202500.0\n",
       "111550273418                14.00        202500.0\n",
       "111550207206                33.00        202500.0\n",
       "111550150781                10.00        171207.0\n",
       "111550271633                30.50        109432.5\n",
       "111550011523                18.00        102500.0\n",
       "111550273432                 3.00        102500.0\n",
       "111550055936                16.00        102500.0\n",
       "111550192446                36.00        102500.0\n",
       "111550270687                20.00        102500.0\n",
       "111000351841               774.00         52500.0\n",
       "111550276723                25.00         52500.0\n",
       "111550154791                 5.00         52500.0\n",
       "111550055948                30.50         51448.5\n",
       "111550216186                13.50         22500.0\n",
       "111550023619                24.25         22500.0\n",
       "111550183278                15.00         22500.0"
      ]
     },
     "execution_count": 7,
     "metadata": {},
     "output_type": "execute_result"
    }
   ],
   "source": [
    "trans_cust_avg= df.groupby('customer_ID')[['type_of_transaction','payment_amount']].mean()\n",
    "trans_cust_avg= trans_cust_avg.head(20)\n",
    "trans_cust_avg=trans_cust_avg.sort_values(['payment_amount'],ascending=False)\n",
    "trans_cust_avg.head(20)\n",
    "#trans_cust_avg.to_csv(\"trans_cust_avg.csv\")"
   ]
  },
  {
   "cell_type": "markdown",
   "metadata": {},
   "source": [
    "# Predict amount of next transaction for each customer"
   ]
  },
  {
   "cell_type": "code",
   "execution_count": 21,
   "metadata": {},
   "outputs": [],
   "source": [
    "# Test and training data preparation\n",
    "df = df.truncate(after=100000,axis=0)\n",
    "y_data = df['payment_amount']\n",
    "y_data.head(2)\n",
    "y_data = y_data.astype(\"category\")\n",
    "y_data = y_data.cat.codes"
   ]
  },
  {
   "cell_type": "code",
   "execution_count": 22,
   "metadata": {},
   "outputs": [
    {
     "data": {
      "text/html": [
       "<div>\n",
       "<style scoped>\n",
       "    .dataframe tbody tr th:only-of-type {\n",
       "        vertical-align: middle;\n",
       "    }\n",
       "\n",
       "    .dataframe tbody tr th {\n",
       "        vertical-align: top;\n",
       "    }\n",
       "\n",
       "    .dataframe thead th {\n",
       "        text-align: right;\n",
       "    }\n",
       "</style>\n",
       "<table border=\"1\" class=\"dataframe\">\n",
       "  <thead>\n",
       "    <tr style=\"text-align: right;\">\n",
       "      <th></th>\n",
       "      <th>type_of_transaction</th>\n",
       "      <th>product_id</th>\n",
       "      <th>PLN_eletricity_group</th>\n",
       "      <th>customer_ID</th>\n",
       "    </tr>\n",
       "  </thead>\n",
       "  <tbody>\n",
       "    <tr>\n",
       "      <th>0</th>\n",
       "      <td>4</td>\n",
       "      <td>0</td>\n",
       "      <td>5</td>\n",
       "      <td>3228</td>\n",
       "    </tr>\n",
       "    <tr>\n",
       "      <th>1</th>\n",
       "      <td>5</td>\n",
       "      <td>0</td>\n",
       "      <td>5</td>\n",
       "      <td>3189</td>\n",
       "    </tr>\n",
       "  </tbody>\n",
       "</table>\n",
       "</div>"
      ],
      "text/plain": [
       "   type_of_transaction  product_id  PLN_eletricity_group  customer_ID\n",
       "0                    4           0                     5         3228\n",
       "1                    5           0                     5         3189"
      ]
     },
     "execution_count": 22,
     "metadata": {},
     "output_type": "execute_result"
    }
   ],
   "source": [
    "x_data = df.copy(True)\n",
    "x_data = x_data.drop([\"date_of_transaction\",\"hour\",\"PTPOS_fee\",'counter_id','branch_id','high_level_territory','staff_id','payment_amount'],axis=1)\n",
    "for column in x_data:\n",
    "        x_data[column] = x_data[column].astype('category')\n",
    "        x_data[column] = x_data[column].cat.codes\n",
    "x_data.head(2)"
   ]
  },
  {
   "cell_type": "code",
   "execution_count": 23,
   "metadata": {},
   "outputs": [],
   "source": [
    "X_train, X_test, y_train, y_test = train_test_split(x_data, y_data, test_size=0.3, random_state=42)"
   ]
  },
  {
   "cell_type": "code",
   "execution_count": 24,
   "metadata": {},
   "outputs": [],
   "source": [
    "def RFC(X_train,X_test, y_train ,y_test):\n",
    "    clf = RandomForestClassifier(n_estimators = 10,\n",
    "                                 max_features='sqrt',\n",
    "                                 max_depth=None,\n",
    "                                 n_jobs=-1)\n",
    "    clf.fit(X_train, y_train.ravel())\n",
    "    score = clf.score(X_test,y_test.ravel())\n",
    "    return (clf,score)"
   ]
  },
  {
   "cell_type": "code",
   "execution_count": 25,
   "metadata": {},
   "outputs": [
    {
     "data": {
      "text/html": [
       "<div>\n",
       "<style scoped>\n",
       "    .dataframe tbody tr th:only-of-type {\n",
       "        vertical-align: middle;\n",
       "    }\n",
       "\n",
       "    .dataframe tbody tr th {\n",
       "        vertical-align: top;\n",
       "    }\n",
       "\n",
       "    .dataframe thead th {\n",
       "        text-align: right;\n",
       "    }\n",
       "</style>\n",
       "<table border=\"1\" class=\"dataframe\">\n",
       "  <thead>\n",
       "    <tr style=\"text-align: right;\">\n",
       "      <th></th>\n",
       "      <th>type_of_transaction</th>\n",
       "      <th>product_id</th>\n",
       "      <th>PLN_eletricity_group</th>\n",
       "      <th>customer_ID</th>\n",
       "    </tr>\n",
       "  </thead>\n",
       "  <tbody>\n",
       "    <tr>\n",
       "      <th>count</th>\n",
       "      <td>7000.000000</td>\n",
       "      <td>7000.0</td>\n",
       "      <td>7000.000000</td>\n",
       "      <td>7000.000000</td>\n",
       "    </tr>\n",
       "    <tr>\n",
       "      <th>mean</th>\n",
       "      <td>82.451429</td>\n",
       "      <td>0.0</td>\n",
       "      <td>5.182571</td>\n",
       "      <td>4303.780143</td>\n",
       "    </tr>\n",
       "    <tr>\n",
       "      <th>std</th>\n",
       "      <td>105.667368</td>\n",
       "      <td>0.0</td>\n",
       "      <td>1.513320</td>\n",
       "      <td>2458.944676</td>\n",
       "    </tr>\n",
       "    <tr>\n",
       "      <th>min</th>\n",
       "      <td>0.000000</td>\n",
       "      <td>0.0</td>\n",
       "      <td>0.000000</td>\n",
       "      <td>0.000000</td>\n",
       "    </tr>\n",
       "    <tr>\n",
       "      <th>25%</th>\n",
       "      <td>14.000000</td>\n",
       "      <td>0.0</td>\n",
       "      <td>5.000000</td>\n",
       "      <td>2206.500000</td>\n",
       "    </tr>\n",
       "    <tr>\n",
       "      <th>50%</th>\n",
       "      <td>42.000000</td>\n",
       "      <td>0.0</td>\n",
       "      <td>5.000000</td>\n",
       "      <td>4319.500000</td>\n",
       "    </tr>\n",
       "    <tr>\n",
       "      <th>75%</th>\n",
       "      <td>104.250000</td>\n",
       "      <td>0.0</td>\n",
       "      <td>6.000000</td>\n",
       "      <td>6405.250000</td>\n",
       "    </tr>\n",
       "    <tr>\n",
       "      <th>max</th>\n",
       "      <td>586.000000</td>\n",
       "      <td>0.0</td>\n",
       "      <td>9.000000</td>\n",
       "      <td>8583.000000</td>\n",
       "    </tr>\n",
       "  </tbody>\n",
       "</table>\n",
       "</div>"
      ],
      "text/plain": [
       "       type_of_transaction  product_id  PLN_eletricity_group  customer_ID\n",
       "count          7000.000000      7000.0           7000.000000  7000.000000\n",
       "mean             82.451429         0.0              5.182571  4303.780143\n",
       "std             105.667368         0.0              1.513320  2458.944676\n",
       "min               0.000000         0.0              0.000000     0.000000\n",
       "25%              14.000000         0.0              5.000000  2206.500000\n",
       "50%              42.000000         0.0              5.000000  4319.500000\n",
       "75%             104.250000         0.0              6.000000  6405.250000\n",
       "max             586.000000         0.0              9.000000  8583.000000"
      ]
     },
     "execution_count": 25,
     "metadata": {},
     "output_type": "execute_result"
    }
   ],
   "source": [
    "X_train.describe()"
   ]
  },
  {
   "cell_type": "code",
   "execution_count": 26,
   "metadata": {},
   "outputs": [],
   "source": [
    "clf,score = RFC(X_train,X_test, y_train ,y_test)"
   ]
  },
  {
   "cell_type": "code",
   "execution_count": 27,
   "metadata": {},
   "outputs": [
    {
     "data": {
      "text/plain": [
       "0.40953015661446185"
      ]
     },
     "execution_count": 27,
     "metadata": {},
     "output_type": "execute_result"
    }
   ],
   "source": [
    "score"
   ]
  },
  {
   "cell_type": "code",
   "execution_count": 39,
   "metadata": {},
   "outputs": [],
   "source": [
    "def plot_importances(clf,x_data):\n",
    "    importances = clf.feature_importances_\n",
    "    std = np.std([tree.feature_importances_ for tree in clf.estimators_],\n",
    "                 axis=0)\n",
    "    indices = np.argsort(importances)[::-1]\n",
    "    labels=[]\n",
    "    for x in indices:\n",
    "        labels.append(x_data.columns[x])\n",
    "    X=x_data\n",
    "\n",
    "    plt.figure(figsize=(30,5))\n",
    "    plt.title(\"Feature importances\")\n",
    "    plt.bar(range(X.shape[1]), importances[indices],\n",
    "           color=\"r\", yerr=std[indices],align=\"center\")\n",
    "    plt.xticks(range(X.shape[1]), labels)\n",
    "    plt.xlim([-1, X.shape[1]])\n",
    "    plt.show()\n",
    "    plt.savefig(\"trans-customer-model\")"
   ]
  },
  {
   "cell_type": "code",
   "execution_count": 40,
   "metadata": {},
   "outputs": [
    {
     "data": {
      "image/png": "[encoded data removed]",
      "text/plain": [
       "<Figure size 2160x360 with 1 Axes>"
      ]
     },
     "metadata": {},
     "output_type": "display_data"
    },
    {
     "data": {
      "text/plain": [
       "<Figure size 432x288 with 0 Axes>"
      ]
     },
     "metadata": {},
     "output_type": "display_data"
    }
   ],
   "source": [
    "plot_importances(clf,x_data)"
   ]
  },
  {
   "cell_type": "code",
   "execution_count": null,
   "metadata": {},
   "outputs": [],
   "source": []
  }
 ],
 "metadata": {
  "kernelspec": {
   "display_name": "Python 3",
   "language": "python",
   "name": "python3"
  },
  "language_info": {
   "codemirror_mode": {
    "name": "ipython",
    "version": 3
   },
   "file_extension": ".py",
   "mimetype": "text/x-python",
   "name": "python",
   "nbconvert_exporter": "python",
   "pygments_lexer": "ipython3",
   "version": "3.6.5"
  }
 },
 "nbformat": 4,
 "nbformat_minor": 2
}
